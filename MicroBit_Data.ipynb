{
  "nbformat": 4,
  "nbformat_minor": 0,
  "metadata": {
    "colab": {
      "provenance": []
    },
    "kernelspec": {
      "name": "python3",
      "display_name": "Python 3"
    },
    "language_info": {
      "name": "python"
    }
  },
  "cells": [
    {
      "cell_type": "markdown",
      "source": [
        "Open this notebook in Callysto [here](https://hub.callysto.ca/jupyter/hub/user-redirect/git-pull?repo=https://github.com/magriffin/microbit_data/blob/main/MicroBit_Data.ipynb&depth=1) or in Colab [here](https://githubtocolab.com/magriffin/microbit_data/blob/main/MicroBit_Data.ipynb)."
      ],
      "metadata": {
        "id": "qUm752r0DEP8"
      }
    },
    {
      "cell_type": "markdown",
      "source": [
        "## Program Setup"
      ],
      "metadata": {
        "id": "j9snzH8LS0cH"
      }
    },
    {
      "cell_type": "markdown",
      "source": [
        "This first code block may have to be run if these libraries haven't already been installed. Once this has been done once, it will never have to be done again. You can skip it for now, but if you get an error message related to a library not being installed, go ahead and run it."
      ],
      "metadata": {
        "id": "bD22lx5IS23A"
      }
    },
    {
      "cell_type": "code",
      "source": [
        "%pip install pandas -q\n",
        "%pip install plotly_express -q"
      ],
      "metadata": {
        "id": "yc3uego9TCmA"
      },
      "execution_count": null,
      "outputs": []
    },
    {
      "cell_type": "markdown",
      "source": [
        "## Introduction"
      ],
      "metadata": {
        "id": "gg9W9FxGS8a9"
      }
    },
    {
      "cell_type": "markdown",
      "source": [
        "**Micro:bit Data**\n",
        "\n",
        "In this lesson, we will use what we've learned about getting data from a Google Sheets file, but this time populate that sheet with data that we collect from a micro:bit.\n",
        "\n",
        "The micro:bit can export its data to a CSV file, which we will then import into a Google Sheet so we can bring it into our notebook. [Click here](https://docs.google.com/presentation/d/1xVEAijLUl99E8X1k6doY0j9ZQ5tX2upGuEF4sPgJozQ/edit#slide=id.g25d2556132a_0_263) for a quick overview on the basics of collecting, exporting, and importing data with a micro:bit."
      ],
      "metadata": {
        "id": "uP8WjdWvSSj1"
      }
    },
    {
      "cell_type": "code",
      "source": [
        "# import plotly.express and pandas\n",
        "import plotly.express as px\n",
        "import pandas as pd"
      ],
      "metadata": {
        "id": "D2gg61sVStsk"
      },
      "execution_count": 4,
      "outputs": []
    },
    {
      "cell_type": "markdown",
      "source": [
        "As a reminder, when we configure the URL of the Google Sheet, we make a change at the end, like this:\n",
        "\n",
        "If the URL is\n",
        "\n",
        "https://docs.google.com/spreadsheets/d/1G-GpXmgoIY0xk4w_ijGyAAWY0lb_kV_9kJY7py1wgzg/edit#gid=0\n",
        "\n",
        "we change the last part after the last slash (/) to export?format=csv:\n",
        "\n",
        "https://docs.google.com/spreadsheets/d/1G-GpXmgoIY0xk4w_ijGyAAWY0lb_kV_9kJY7py1wgzg/export?format=csv\n",
        "\n",
        "We then treat the Google Sheet like a CSV file."
      ],
      "metadata": {
        "id": "p9iO_lyDDMen"
      }
    },
    {
      "cell_type": "code",
      "source": [
        "# Google Sheet URL variable, with modified /export?format=csv ending\n",
        "url = 'https://docs.google.com/spreadsheets/d/1G-GpXmgoIY0xk4w_ijGyAAWY0lb_kV_9kJY7py1wgzg/export?format=csv'\n",
        "\n",
        "# Read the Google Sheet into a DataFrame named df\n",
        "# Note we are using the url variable\n",
        "df = pd.read_csv(url)\n",
        "\n",
        "display(df)"
      ],
      "metadata": {
        "colab": {
          "base_uri": "https://localhost:8080/",
          "height": 424
        },
        "id": "Vw3bQb31DIcB",
        "outputId": "c3646876-0ba7-4cf1-9b3a-98bf252b61a4"
      },
      "execution_count": 17,
      "outputs": [
        {
          "output_type": "display_data",
          "data": {
            "text/plain": [
              "       time  g_force\n",
              "0     0.000      974\n",
              "1     0.005      971\n",
              "2     0.023      972\n",
              "3     0.047     1008\n",
              "4     0.069     1034\n",
              "..      ...      ...\n",
              "972  24.153     1042\n",
              "973  24.177     1022\n",
              "974  24.208     1039\n",
              "975  24.231     1006\n",
              "976  24.249     1023\n",
              "\n",
              "[977 rows x 2 columns]"
            ],
            "text/html": [
              "\n",
              "  <div id=\"df-5e17bcaa-9a65-4a3e-93a3-bb034cb79d9a\" class=\"colab-df-container\">\n",
              "    <div>\n",
              "<style scoped>\n",
              "    .dataframe tbody tr th:only-of-type {\n",
              "        vertical-align: middle;\n",
              "    }\n",
              "\n",
              "    .dataframe tbody tr th {\n",
              "        vertical-align: top;\n",
              "    }\n",
              "\n",
              "    .dataframe thead th {\n",
              "        text-align: right;\n",
              "    }\n",
              "</style>\n",
              "<table border=\"1\" class=\"dataframe\">\n",
              "  <thead>\n",
              "    <tr style=\"text-align: right;\">\n",
              "      <th></th>\n",
              "      <th>time</th>\n",
              "      <th>g_force</th>\n",
              "    </tr>\n",
              "  </thead>\n",
              "  <tbody>\n",
              "    <tr>\n",
              "      <th>0</th>\n",
              "      <td>0.000</td>\n",
              "      <td>974</td>\n",
              "    </tr>\n",
              "    <tr>\n",
              "      <th>1</th>\n",
              "      <td>0.005</td>\n",
              "      <td>971</td>\n",
              "    </tr>\n",
              "    <tr>\n",
              "      <th>2</th>\n",
              "      <td>0.023</td>\n",
              "      <td>972</td>\n",
              "    </tr>\n",
              "    <tr>\n",
              "      <th>3</th>\n",
              "      <td>0.047</td>\n",
              "      <td>1008</td>\n",
              "    </tr>\n",
              "    <tr>\n",
              "      <th>4</th>\n",
              "      <td>0.069</td>\n",
              "      <td>1034</td>\n",
              "    </tr>\n",
              "    <tr>\n",
              "      <th>...</th>\n",
              "      <td>...</td>\n",
              "      <td>...</td>\n",
              "    </tr>\n",
              "    <tr>\n",
              "      <th>972</th>\n",
              "      <td>24.153</td>\n",
              "      <td>1042</td>\n",
              "    </tr>\n",
              "    <tr>\n",
              "      <th>973</th>\n",
              "      <td>24.177</td>\n",
              "      <td>1022</td>\n",
              "    </tr>\n",
              "    <tr>\n",
              "      <th>974</th>\n",
              "      <td>24.208</td>\n",
              "      <td>1039</td>\n",
              "    </tr>\n",
              "    <tr>\n",
              "      <th>975</th>\n",
              "      <td>24.231</td>\n",
              "      <td>1006</td>\n",
              "    </tr>\n",
              "    <tr>\n",
              "      <th>976</th>\n",
              "      <td>24.249</td>\n",
              "      <td>1023</td>\n",
              "    </tr>\n",
              "  </tbody>\n",
              "</table>\n",
              "<p>977 rows × 2 columns</p>\n",
              "</div>\n",
              "    <div class=\"colab-df-buttons\">\n",
              "\n",
              "  <div class=\"colab-df-container\">\n",
              "    <button class=\"colab-df-convert\" onclick=\"convertToInteractive('df-5e17bcaa-9a65-4a3e-93a3-bb034cb79d9a')\"\n",
              "            title=\"Convert this dataframe to an interactive table.\"\n",
              "            style=\"display:none;\">\n",
              "\n",
              "  <svg xmlns=\"http://www.w3.org/2000/svg\" height=\"24px\" viewBox=\"0 -960 960 960\">\n",
              "    <path d=\"M120-120v-720h720v720H120Zm60-500h600v-160H180v160Zm220 220h160v-160H400v160Zm0 220h160v-160H400v160ZM180-400h160v-160H180v160Zm440 0h160v-160H620v160ZM180-180h160v-160H180v160Zm440 0h160v-160H620v160Z\"/>\n",
              "  </svg>\n",
              "    </button>\n",
              "\n",
              "  <style>\n",
              "    .colab-df-container {\n",
              "      display:flex;\n",
              "      gap: 12px;\n",
              "    }\n",
              "\n",
              "    .colab-df-convert {\n",
              "      background-color: #E8F0FE;\n",
              "      border: none;\n",
              "      border-radius: 50%;\n",
              "      cursor: pointer;\n",
              "      display: none;\n",
              "      fill: #1967D2;\n",
              "      height: 32px;\n",
              "      padding: 0 0 0 0;\n",
              "      width: 32px;\n",
              "    }\n",
              "\n",
              "    .colab-df-convert:hover {\n",
              "      background-color: #E2EBFA;\n",
              "      box-shadow: 0px 1px 2px rgba(60, 64, 67, 0.3), 0px 1px 3px 1px rgba(60, 64, 67, 0.15);\n",
              "      fill: #174EA6;\n",
              "    }\n",
              "\n",
              "    .colab-df-buttons div {\n",
              "      margin-bottom: 4px;\n",
              "    }\n",
              "\n",
              "    [theme=dark] .colab-df-convert {\n",
              "      background-color: #3B4455;\n",
              "      fill: #D2E3FC;\n",
              "    }\n",
              "\n",
              "    [theme=dark] .colab-df-convert:hover {\n",
              "      background-color: #434B5C;\n",
              "      box-shadow: 0px 1px 3px 1px rgba(0, 0, 0, 0.15);\n",
              "      filter: drop-shadow(0px 1px 2px rgba(0, 0, 0, 0.3));\n",
              "      fill: #FFFFFF;\n",
              "    }\n",
              "  </style>\n",
              "\n",
              "    <script>\n",
              "      const buttonEl =\n",
              "        document.querySelector('#df-5e17bcaa-9a65-4a3e-93a3-bb034cb79d9a button.colab-df-convert');\n",
              "      buttonEl.style.display =\n",
              "        google.colab.kernel.accessAllowed ? 'block' : 'none';\n",
              "\n",
              "      async function convertToInteractive(key) {\n",
              "        const element = document.querySelector('#df-5e17bcaa-9a65-4a3e-93a3-bb034cb79d9a');\n",
              "        const dataTable =\n",
              "          await google.colab.kernel.invokeFunction('convertToInteractive',\n",
              "                                                    [key], {});\n",
              "        if (!dataTable) return;\n",
              "\n",
              "        const docLinkHtml = 'Like what you see? Visit the ' +\n",
              "          '<a target=\"_blank\" href=https://colab.research.google.com/notebooks/data_table.ipynb>data table notebook</a>'\n",
              "          + ' to learn more about interactive tables.';\n",
              "        element.innerHTML = '';\n",
              "        dataTable['output_type'] = 'display_data';\n",
              "        await google.colab.output.renderOutput(dataTable, element);\n",
              "        const docLink = document.createElement('div');\n",
              "        docLink.innerHTML = docLinkHtml;\n",
              "        element.appendChild(docLink);\n",
              "      }\n",
              "    </script>\n",
              "  </div>\n",
              "\n",
              "\n",
              "<div id=\"df-a3227988-12bb-46ad-8470-ada73053a803\">\n",
              "  <button class=\"colab-df-quickchart\" onclick=\"quickchart('df-a3227988-12bb-46ad-8470-ada73053a803')\"\n",
              "            title=\"Suggest charts\"\n",
              "            style=\"display:none;\">\n",
              "\n",
              "<svg xmlns=\"http://www.w3.org/2000/svg\" height=\"24px\"viewBox=\"0 0 24 24\"\n",
              "     width=\"24px\">\n",
              "    <g>\n",
              "        <path d=\"M19 3H5c-1.1 0-2 .9-2 2v14c0 1.1.9 2 2 2h14c1.1 0 2-.9 2-2V5c0-1.1-.9-2-2-2zM9 17H7v-7h2v7zm4 0h-2V7h2v10zm4 0h-2v-4h2v4z\"/>\n",
              "    </g>\n",
              "</svg>\n",
              "  </button>\n",
              "\n",
              "<style>\n",
              "  .colab-df-quickchart {\n",
              "      --bg-color: #E8F0FE;\n",
              "      --fill-color: #1967D2;\n",
              "      --hover-bg-color: #E2EBFA;\n",
              "      --hover-fill-color: #174EA6;\n",
              "      --disabled-fill-color: #AAA;\n",
              "      --disabled-bg-color: #DDD;\n",
              "  }\n",
              "\n",
              "  [theme=dark] .colab-df-quickchart {\n",
              "      --bg-color: #3B4455;\n",
              "      --fill-color: #D2E3FC;\n",
              "      --hover-bg-color: #434B5C;\n",
              "      --hover-fill-color: #FFFFFF;\n",
              "      --disabled-bg-color: #3B4455;\n",
              "      --disabled-fill-color: #666;\n",
              "  }\n",
              "\n",
              "  .colab-df-quickchart {\n",
              "    background-color: var(--bg-color);\n",
              "    border: none;\n",
              "    border-radius: 50%;\n",
              "    cursor: pointer;\n",
              "    display: none;\n",
              "    fill: var(--fill-color);\n",
              "    height: 32px;\n",
              "    padding: 0;\n",
              "    width: 32px;\n",
              "  }\n",
              "\n",
              "  .colab-df-quickchart:hover {\n",
              "    background-color: var(--hover-bg-color);\n",
              "    box-shadow: 0 1px 2px rgba(60, 64, 67, 0.3), 0 1px 3px 1px rgba(60, 64, 67, 0.15);\n",
              "    fill: var(--button-hover-fill-color);\n",
              "  }\n",
              "\n",
              "  .colab-df-quickchart-complete:disabled,\n",
              "  .colab-df-quickchart-complete:disabled:hover {\n",
              "    background-color: var(--disabled-bg-color);\n",
              "    fill: var(--disabled-fill-color);\n",
              "    box-shadow: none;\n",
              "  }\n",
              "\n",
              "  .colab-df-spinner {\n",
              "    border: 2px solid var(--fill-color);\n",
              "    border-color: transparent;\n",
              "    border-bottom-color: var(--fill-color);\n",
              "    animation:\n",
              "      spin 1s steps(1) infinite;\n",
              "  }\n",
              "\n",
              "  @keyframes spin {\n",
              "    0% {\n",
              "      border-color: transparent;\n",
              "      border-bottom-color: var(--fill-color);\n",
              "      border-left-color: var(--fill-color);\n",
              "    }\n",
              "    20% {\n",
              "      border-color: transparent;\n",
              "      border-left-color: var(--fill-color);\n",
              "      border-top-color: var(--fill-color);\n",
              "    }\n",
              "    30% {\n",
              "      border-color: transparent;\n",
              "      border-left-color: var(--fill-color);\n",
              "      border-top-color: var(--fill-color);\n",
              "      border-right-color: var(--fill-color);\n",
              "    }\n",
              "    40% {\n",
              "      border-color: transparent;\n",
              "      border-right-color: var(--fill-color);\n",
              "      border-top-color: var(--fill-color);\n",
              "    }\n",
              "    60% {\n",
              "      border-color: transparent;\n",
              "      border-right-color: var(--fill-color);\n",
              "    }\n",
              "    80% {\n",
              "      border-color: transparent;\n",
              "      border-right-color: var(--fill-color);\n",
              "      border-bottom-color: var(--fill-color);\n",
              "    }\n",
              "    90% {\n",
              "      border-color: transparent;\n",
              "      border-bottom-color: var(--fill-color);\n",
              "    }\n",
              "  }\n",
              "</style>\n",
              "\n",
              "  <script>\n",
              "    async function quickchart(key) {\n",
              "      const quickchartButtonEl =\n",
              "        document.querySelector('#' + key + ' button');\n",
              "      quickchartButtonEl.disabled = true;  // To prevent multiple clicks.\n",
              "      quickchartButtonEl.classList.add('colab-df-spinner');\n",
              "      try {\n",
              "        const charts = await google.colab.kernel.invokeFunction(\n",
              "            'suggestCharts', [key], {});\n",
              "      } catch (error) {\n",
              "        console.error('Error during call to suggestCharts:', error);\n",
              "      }\n",
              "      quickchartButtonEl.classList.remove('colab-df-spinner');\n",
              "      quickchartButtonEl.classList.add('colab-df-quickchart-complete');\n",
              "    }\n",
              "    (() => {\n",
              "      let quickchartButtonEl =\n",
              "        document.querySelector('#df-a3227988-12bb-46ad-8470-ada73053a803 button');\n",
              "      quickchartButtonEl.style.display =\n",
              "        google.colab.kernel.accessAllowed ? 'block' : 'none';\n",
              "    })();\n",
              "  </script>\n",
              "</div>\n",
              "    </div>\n",
              "  </div>\n"
            ]
          },
          "metadata": {}
        }
      ]
    },
    {
      "cell_type": "markdown",
      "source": [
        "The dataset above measures the force of gravity acting on a micro:bit as it swings in a pendulum. It requires two micro:bits (one to send the force of gravity data - [code found here](https://makecode.microbit.org/S54461-17608-77938-38543)) and another that collects the data, which is what we've downloaded and presented above (code found here [link text](https://makecode.microbit.org/S13666-93580-39992-12150)).\n",
        "\n",
        "Now, we'd like to visualize our dataframe as a graph over time.\n",
        "\n"
      ],
      "metadata": {
        "id": "MWhKEeq36x9A"
      }
    },
    {
      "cell_type": "code",
      "source": [
        "fig = px.line(df, x='time', y='g_force')\n",
        "display(fig)"
      ],
      "metadata": {
        "colab": {
          "base_uri": "https://localhost:8080/",
          "height": 542
        },
        "id": "3eBF8ZvT-4k-",
        "outputId": "1e0bb5ec-ca51-438e-d754-fb9244ce4a9a"
      },
      "execution_count": 18,
      "outputs": [
        {
          "output_type": "display_data",
          "data": {
            "text/html": [
              "<html>\n",
              "<head><meta charset=\"utf-8\" /></head>\n",
              "<body>\n",
              "    <div>            <script src=\"https://cdnjs.cloudflare.com/ajax/libs/mathjax/2.7.5/MathJax.js?config=TeX-AMS-MML_SVG\"></script><script type=\"text/javascript\">if (window.MathJax && window.MathJax.Hub && window.MathJax.Hub.Config) {window.MathJax.Hub.Config({SVG: {font: \"STIX-Web\"}});}</script>                <script type=\"text/javascript\">window.PlotlyConfig = {MathJaxConfig: 'local'};</script>\n",
              "        <script charset=\"utf-8\" src=\"https://cdn.plot.ly/plotly-2.24.1.min.js\"></script>                <div id=\"8ccd176e-fa7b-496d-a6ca-741f6bbf450e\" class=\"plotly-graph-div\" style=\"height:525px; width:100%;\"></div>            <script type=\"text/javascript\">                                    window.PLOTLYENV=window.PLOTLYENV || {};                                    if (document.getElementById(\"8ccd176e-fa7b-496d-a6ca-741f6bbf450e\")) {                    Plotly.newPlot(                        \"8ccd176e-fa7b-496d-a6ca-741f6bbf450e\",                        [{\"hovertemplate\":\"time=%{x}\\u003cbr\\u003eg_force=%{y}\\u003cextra\\u003e\\u003c\\u002fextra\\u003e\",\"legendgroup\":\"\",\"line\":{\"color\":\"#636efa\",\"dash\":\"solid\"},\"marker\":{\"symbol\":\"circle\"},\"mode\":\"lines\",\"name\":\"\",\"orientation\":\"v\",\"showlegend\":false,\"x\":[0.0,0.005,0.023,0.047,0.069,0.093,0.121,0.145,0.169,0.192,0.212,0.241,0.265,0.287,0.312,0.335,0.357,0.381,0.404,0.433,0.457,0.479,0.503,0.527,0.549,0.574,0.601,0.625,0.649,0.674,0.698,0.721,0.751,0.774,0.797,0.82,0.843,0.867,0.896,0.919,0.943,0.965,0.989,1.013,1.037,1.059,1.087,1.111,1.136,1.157,1.184,1.209,1.226,1.256,1.278,1.301,1.325,1.349,1.374,1.396,1.419,1.444,1.472,1.495,1.519,1.541,1.565,1.589,1.611,1.636,1.658,1.688,1.711,1.733,1.757,1.792,1.808,1.838,1.861,1.884,1.937,1.943,1.955,1.977,2.001,2.025,2.051,2.073,2.096,2.125,2.149,2.174,2.198,2.216,2.245,2.269,2.292,2.315,2.34,2.363,2.387,2.411,2.433,2.457,2.481,2.505,2.533,2.552,2.576,2.605,2.629,2.653,2.684,2.696,2.725,2.75,2.775,2.796,2.819,2.844,2.867,2.893,2.924,2.948,2.966,2.991,3.019,3.043,3.062,3.091,3.115,3.139,3.187,3.211,3.235,3.258,3.281,3.306,3.327,3.352,3.376,3.399,3.423,3.449,3.474,3.497,3.543,3.567,3.591,3.62,3.639,3.663,3.691,3.715,3.739,3.761,3.786,3.812,3.833,3.858,3.881,3.904,3.927,3.982,3.988,4.008,4.031,4.055,4.079,4.101,4.125,4.148,4.177,4.201,4.225,4.249,4.273,4.297,4.319,4.343,4.367,4.391,4.415,4.439,4.463,4.485,4.509,4.532,4.561,4.585,4.609,4.633,4.657,4.681,4.704,4.724,4.753,4.778,4.807,4.826,4.849,4.896,4.919,4.947,4.971,4.99,5.012,5.041,5.064,5.093,5.118,5.144,5.187,5.235,5.267,5.285,5.309,5.332,5.355,5.407,5.432,5.468,5.478,5.501,5.525,5.57,5.576,5.598,5.621,5.645,5.669,5.693,5.739,5.763,5.792,5.819,5.837,5.861,5.885,5.908,5.931,5.955,5.978,6.007,6.031,6.053,6.077,6.099,6.123,6.153,6.177,6.201,6.225,6.256,6.273,6.297,6.321,6.345,6.369,6.393,6.417,6.469,6.493,6.54,6.563,6.586,6.609,6.639,6.661,6.685,6.708,6.731,6.761,6.778,6.801,6.825,6.877,6.9,6.923,6.947,6.969,6.999,7.019,7.043,7.067,7.091,7.115,7.139,7.162,7.185,7.209,7.237,7.267,7.29,7.312,7.336,7.359,7.383,7.407,7.435,7.481,7.505,7.529,7.551,7.575,7.599,7.626,7.65,7.673,7.703,7.721,7.744,7.791,7.819,7.844,7.868,7.891,7.915,7.938,7.962,7.985,8.009,8.031,8.055,8.084,8.107,8.131,8.153,8.176,8.199,8.223,8.247,8.271,8.299,8.324,8.351,8.375,8.4,8.424,8.447,8.471,8.495,8.517,8.547,8.564,8.613,8.643,8.665,8.689,8.713,8.736,8.759,8.783,8.811,8.828,8.857,8.881,8.905,8.927,8.951,8.975,8.997,9.027,9.05,9.073,9.096,9.119,9.143,9.167,9.19,9.213,9.237,9.261,9.287,9.333,9.36,9.384,9.407,9.437,9.461,9.486,9.509,9.533,9.556,9.583,9.605,9.629,9.652,9.679,9.703,9.727,9.751,9.776,9.798,9.822,9.85,9.873,9.891,9.919,9.943,9.967,9.99,10.013,10.036,10.059,10.083,10.112,10.135,10.159,10.181,10.205,10.228,10.257,10.275,10.303,10.327,10.35,10.372,10.397,10.419,10.444,10.467,10.496,10.524,10.546,10.57,10.599,10.617,10.641,10.666,10.69,10.719,10.743,10.763,10.787,10.81,10.839,10.857,10.885,10.909,10.931,10.955,10.979,11.001,11.025,11.076,11.103,11.121,11.145,11.169,11.221,11.245,11.269,11.293,11.318,11.343,11.364,11.387,11.411,11.436,11.459,11.482,11.506,11.53,11.557,11.581,11.608,11.632,11.656,11.685,11.703,11.728,11.751,11.781,11.804,11.828,11.851,11.875,11.897,11.921,11.945,11.967,11.993,12.041,12.063,12.088,12.112,12.136,12.187,12.21,12.233,12.256,12.285,12.309,12.331,12.355,12.379,12.403,12.427,12.452,12.475,12.499,12.525,12.549,12.567,12.59,12.62,12.639,12.667,12.691,12.721,12.745,12.767,12.815,12.839,12.863,12.888,12.91,12.936,12.959,12.983,13.006,13.029,13.053,13.081,13.106,13.13,13.153,13.177,13.199,13.223,13.247,13.27,13.3,13.317,13.341,13.366,13.39,13.414,13.438,13.461,13.487,13.51,13.539,13.561,13.581,13.61,13.633,13.657,13.681,13.706,13.73,13.753,13.778,13.807,13.829,13.855,13.876,13.904,13.925,13.951,13.975,13.999,14.022,14.045,14.069,14.097,14.115,14.139,14.164,14.188,14.216,14.239,14.261,14.283,14.307,14.337,14.359,14.384,14.408,14.452,14.478,14.501,14.526,14.55,14.575,14.6,14.648,14.667,14.697,14.72,14.744,14.768,14.791,14.815,14.838,14.867,14.893,14.918,14.942,14.965,15.012,15.038,15.059,15.083,15.105,15.132,15.156,15.178,15.204,15.227,15.252,15.277,15.3,15.325,15.349,15.373,15.397,15.421,15.444,15.47,15.493,15.517,15.54,15.564,15.588,15.612,15.636,15.659,15.689,15.707,15.729,15.753,15.783,15.801,15.826,15.873,15.927,15.953,16.005,16.024,16.047,16.076,16.1,16.125,16.147,16.201,16.219,16.243,16.267,16.291,16.319,16.336,16.361,16.384,16.413,16.432,16.456,16.485,16.508,16.533,16.551,16.603,16.627,16.653,16.671,16.701,16.72,16.745,16.767,16.796,16.819,16.843,16.867,16.893,16.913,16.937,16.961,16.985,17.009,17.039,17.063,17.089,17.114,17.136,17.159,17.184,17.209,17.233,17.257,17.281,17.304,17.328,17.352,17.377,17.403,17.421,17.45,17.475,17.498,17.521,17.545,17.569,17.599,17.617,17.637,17.665,17.69,17.714,17.737,17.76,17.786,17.81,17.833,17.856,17.879,17.904,17.927,17.953,17.977,18.001,18.026,18.048,18.071,18.097,18.121,18.151,18.177,18.201,18.22,18.243,18.272,18.291,18.339,18.367,18.415,18.437,18.463,18.511,18.535,18.565,18.585,18.606,18.63,18.653,18.676,18.703,18.725,18.748,18.772,18.801,18.82,18.847,18.872,18.896,18.917,18.941,18.966,18.989,19.011,19.039,19.063,19.088,19.111,19.131,19.158,19.182,19.21,19.233,19.261,19.284,19.307,19.331,19.353,19.383,19.401,19.426,19.451,19.475,19.498,19.523,19.545,19.571,19.595,19.62,19.644,19.668,19.691,19.715,19.746,19.764,19.786,19.81,19.833,19.863,19.887,19.905,19.929,19.953,19.977,20.004,20.029,20.049,20.073,20.101,20.126,20.151,20.169,20.195,20.218,20.247,20.265,20.293,20.324,20.347,20.371,20.396,20.42,20.444,20.467,20.491,20.515,20.538,20.564,20.588,20.611,20.639,20.657,20.679,20.709,20.733,20.752,20.777,20.8,20.825,20.849,20.873,20.899,20.921,20.945,20.969,20.993,21.017,21.04,21.064,21.088,21.111,21.135,21.163,21.187,21.21,21.234,21.256,21.284,21.312,21.329,21.352,21.381,21.41,21.433,21.458,21.482,21.505,21.533,21.551,21.576,21.599,21.623,21.645,21.675,21.695,21.719,21.745,21.77,21.793,21.818,21.841,21.867,21.886,21.913,21.937,21.961,21.984,22.007,22.031,22.059,22.078,22.101,22.126,22.15,22.175,22.201,22.224,22.246,22.272,22.297,22.317,22.345,22.37,22.393,22.423,22.441,22.466,22.496,22.521,22.539,22.564,22.595,22.613,22.638,22.667,22.686,22.71,22.732,22.756,22.779,22.804,22.829,22.851,22.879,22.904,22.923,22.947,22.972,22.996,23.019,23.043,23.072,23.091,23.121,23.145,23.164,23.189,23.212,23.236,23.263,23.282,23.316,23.333,23.357,23.381,23.407,23.431,23.455,23.478,23.503,23.524,23.553,23.583,23.601,23.626,23.653,23.673,23.698,23.726,23.75,23.795,23.802,23.819,23.844,23.867,23.891,23.915,23.939,23.964,23.988,24.011,24.035,24.058,24.087,24.105,24.129,24.153,24.177,24.208,24.231,24.249],\"xaxis\":\"x\",\"y\":[974,971,972,1008,1034,1053,1072,1089,1106,1154,1142,1158,1106,1073,1056,1026,1017,1002,962,979,974,958,1017,988,978,974,999,1034,1031,1028,1042,1062,1042,1027,1042,1049,1027,1029,1014,992,1010,994,1010,970,998,1017,998,1017,1048,1001,1001,1018,1049,1033,1030,1033,1070,1012,1014,1009,1046,1043,1040,1069,1075,1040,1058,1058,1073,1055,1037,1008,993,975,1008,973,963,976,976,1030,1008,960,960,914,913,911,942,930,918,894,1012,1110,1132,1071,1090,1188,1200,1121,1088,1168,1447,1554,590,351,1266,1301,1648,2061,1422,1164,1152,1315,1175,1129,1112,1018,985,884,829,753,724,766,964,1036,1172,1304,1463,1503,1569,1573,1564,1416,1376,1327,1320,1216,1149,1138,1118,1057,790,725,680,660,665,674,659,637,1044,1257,1622,1826,2163,2629,3000,3408,3498,3443,3441,3249,2688,2354,2073,1921,1729,1364,1140,982,877,715,660,675,690,515,455,398,361,259,198,135,164,179,192,321,432,432,369,372,441,678,360,241,1072,2493,2361,2659,2727,2940,3169,3168,2828,3177,2912,2793,2334,2098,1906,1754,1703,1526,1408,1283,1141,709,586,496,465,400,359,352,577,541,571,602,633,799,992,1093,1171,1283,1610,1854,2107,2601,3038,3484,4253,4671,5091,5046,4677,4636,4465,4249,3766,2897,2446,2146,1846,1538,1231,1013,906,721,524,459,335,305,314,107,98,78,172,214,387,259,53,144,235,375,492,529,992,2408,1217,1192,2546,3121,3478,3573,4964,4064,3766,3807,3705,3536,3375,3242,2993,2680,2366,2089,1532,1399,1285,1057,817,693,602,630,598,538,459,433,349,327,280,250,320,426,631,747,826,938,1194,1325,1795,1994,1885,3172,3497,3818,4128,4463,4872,5036,5175,5194,4806,4281,3329,2804,2408,1674,1642,1723,1859,1130,1035,807,643,571,411,323,117,59,288,433,288,288,215,246,307,444,382,459,589,7663,762,1226,2009,2383,2722,3616,4376,5152,5340,5434,5855,5349,4532,4412,3883,3449,3197,2415,2341,1971,1548,1412,1131,962,838,321,664,513,637,466,516,370,499,331,309,337,272,317,351,401,377,409,394,470,624,947,1070,1523,1928,3083,3421,3774,4446,4613,5412,5757,6007,6168,6067,5697,5061,4773,4500,4190,3720,2820,2387,1985,1333,1088,915,709,786,618,345,403,202,327,110,229,258,141,141,242,238,224,250,262,279,286,465,3658,3942,1044,351,225,235,1121,2415,7046,4971,6009,6055,7604,7484,6972,6399,6085,4751,4303,4034,3496,2915,3106,2396,1789,1040,921,798,751,595,645,573,659,497,531,418,383,388,346,344,537,486,526,476,1148,728,1161,1270,3266,851,3065,1258,3393,2842,4341,4552,4711,4700,4561,4187,3902,3805,3714,3094,2837,2265,2056,1374,1191,982,800,571,395,325,290,273,272,257,148,200,211,114,167,312,417,529,675,709,980,1154,1881,1488,1339,2048,2439,2691,2733,2984,3400,3558,3677,3894,3876,3584,3340,3154,2931,2425,2127,1947,1923,1855,1521,1355,1077,969,743,490,412,276,276,225,195,81,102,163,211,258,337,891,690,957,1409,1359,1197,1281,1579,1876,2778,3095,3816,4523,4440,4578,5245,5817,6286,5874,5716,5214,3927,3252,2771,1616,1104,1231,818,553,550,343,305,155,215,161,167,132,147,129,103,98,94,50,53,93,145,959,771,750,1199,1158,1197,1259,2119,2392,3054,5435,6396,7093,6134,5685,5047,3402,3521,3444,3223,2714,1406,1093,706,605,400,400,409,321,373,215,192,204,163,136,154,151,176,160,227,7656,571,1263,1261,1486,1916,1883,2068,2344,2463,3455,3549,3652,4045,4207,4825,4892,5252,5272,4726,4158,3484,3622,3849,2514,2911,935,1402,645,493,494,496,321,286,144,249,340,403,415,301,224,233,693,455,448,508,492,556,599,600,556,371,1077,2964,1762,3167,3203,3143,2885,2760,2603,2853,3042,2886,2712,2651,2432,2021,3022,1321,986,555,1242,1080,790,1326,1102,1045,726,821,1026,1123,1197,1142,1517,1282,1337,1277,1297,1325,1390,1330,1280,1248,1161,1131,1028,1168,1102,1123,1045,1081,1097,1108,1138,1185,1218,1235,1188,1125,1125,1092,1094,1077,1061,1015,1034,1018,1020,1018,1050,1033,1035,1066,1048,1031,1037,1036,1064,1056,1067,1083,1096,1064,1082,1015,1017,1036,1018,1002,1002,1020,1024,993,1058,1040,1023,1040,1022,1040,989,993,1012,1026,1022,1022,1038,1036,1033,1069,1033,1031,1051,1034,1048,1002,1050,1048,1037,1066,1037,1053,1053,1051,1040,1051,1039,1008,1037,1023,1040,1026,1022,1005,1008,1008,1006,1029,1025,1023,1020,1019,1039,1049,1019,1022,1038,1040,1022,1020,1038,1038,1054,1039,1023,1009,1004,1004,1036,1021,1052,1053,1050,1021,1017,1037,1035,1032,1019,1021,1025,1037,1025,1037,1054,1023,1067,1054,1039,1066,1040,1037,1052,1040,1021,1006,1038,993,1001,1006,1019,1039,1021,1054,1019,1019,1033,1019,1032,1033,1018,1019,1032,1033,1048,1033,1016,1021,1025,1021,1010,1025,1042,1012,1027,1038,1037,1039,1021,1038,1018,1020,1018,1051,1004,1002,1038,1071,1028,1037,1018,1031,1025,1023,1021,1021,1039,1023,1023,1027,1025,1025,1014,1022,1037,1020,1036,1019,1016,1032,1033,1039,1037,1037,1003,1025,1023,1022,1042,1022,1039,1006,1023],\"yaxis\":\"y\",\"type\":\"scatter\"}],                        {\"template\":{\"data\":{\"histogram2dcontour\":[{\"type\":\"histogram2dcontour\",\"colorbar\":{\"outlinewidth\":0,\"ticks\":\"\"},\"colorscale\":[[0.0,\"#0d0887\"],[0.1111111111111111,\"#46039f\"],[0.2222222222222222,\"#7201a8\"],[0.3333333333333333,\"#9c179e\"],[0.4444444444444444,\"#bd3786\"],[0.5555555555555556,\"#d8576b\"],[0.6666666666666666,\"#ed7953\"],[0.7777777777777778,\"#fb9f3a\"],[0.8888888888888888,\"#fdca26\"],[1.0,\"#f0f921\"]]}],\"choropleth\":[{\"type\":\"choropleth\",\"colorbar\":{\"outlinewidth\":0,\"ticks\":\"\"}}],\"histogram2d\":[{\"type\":\"histogram2d\",\"colorbar\":{\"outlinewidth\":0,\"ticks\":\"\"},\"colorscale\":[[0.0,\"#0d0887\"],[0.1111111111111111,\"#46039f\"],[0.2222222222222222,\"#7201a8\"],[0.3333333333333333,\"#9c179e\"],[0.4444444444444444,\"#bd3786\"],[0.5555555555555556,\"#d8576b\"],[0.6666666666666666,\"#ed7953\"],[0.7777777777777778,\"#fb9f3a\"],[0.8888888888888888,\"#fdca26\"],[1.0,\"#f0f921\"]]}],\"heatmap\":[{\"type\":\"heatmap\",\"colorbar\":{\"outlinewidth\":0,\"ticks\":\"\"},\"colorscale\":[[0.0,\"#0d0887\"],[0.1111111111111111,\"#46039f\"],[0.2222222222222222,\"#7201a8\"],[0.3333333333333333,\"#9c179e\"],[0.4444444444444444,\"#bd3786\"],[0.5555555555555556,\"#d8576b\"],[0.6666666666666666,\"#ed7953\"],[0.7777777777777778,\"#fb9f3a\"],[0.8888888888888888,\"#fdca26\"],[1.0,\"#f0f921\"]]}],\"heatmapgl\":[{\"type\":\"heatmapgl\",\"colorbar\":{\"outlinewidth\":0,\"ticks\":\"\"},\"colorscale\":[[0.0,\"#0d0887\"],[0.1111111111111111,\"#46039f\"],[0.2222222222222222,\"#7201a8\"],[0.3333333333333333,\"#9c179e\"],[0.4444444444444444,\"#bd3786\"],[0.5555555555555556,\"#d8576b\"],[0.6666666666666666,\"#ed7953\"],[0.7777777777777778,\"#fb9f3a\"],[0.8888888888888888,\"#fdca26\"],[1.0,\"#f0f921\"]]}],\"contourcarpet\":[{\"type\":\"contourcarpet\",\"colorbar\":{\"outlinewidth\":0,\"ticks\":\"\"}}],\"contour\":[{\"type\":\"contour\",\"colorbar\":{\"outlinewidth\":0,\"ticks\":\"\"},\"colorscale\":[[0.0,\"#0d0887\"],[0.1111111111111111,\"#46039f\"],[0.2222222222222222,\"#7201a8\"],[0.3333333333333333,\"#9c179e\"],[0.4444444444444444,\"#bd3786\"],[0.5555555555555556,\"#d8576b\"],[0.6666666666666666,\"#ed7953\"],[0.7777777777777778,\"#fb9f3a\"],[0.8888888888888888,\"#fdca26\"],[1.0,\"#f0f921\"]]}],\"surface\":[{\"type\":\"surface\",\"colorbar\":{\"outlinewidth\":0,\"ticks\":\"\"},\"colorscale\":[[0.0,\"#0d0887\"],[0.1111111111111111,\"#46039f\"],[0.2222222222222222,\"#7201a8\"],[0.3333333333333333,\"#9c179e\"],[0.4444444444444444,\"#bd3786\"],[0.5555555555555556,\"#d8576b\"],[0.6666666666666666,\"#ed7953\"],[0.7777777777777778,\"#fb9f3a\"],[0.8888888888888888,\"#fdca26\"],[1.0,\"#f0f921\"]]}],\"mesh3d\":[{\"type\":\"mesh3d\",\"colorbar\":{\"outlinewidth\":0,\"ticks\":\"\"}}],\"scatter\":[{\"fillpattern\":{\"fillmode\":\"overlay\",\"size\":10,\"solidity\":0.2},\"type\":\"scatter\"}],\"parcoords\":[{\"type\":\"parcoords\",\"line\":{\"colorbar\":{\"outlinewidth\":0,\"ticks\":\"\"}}}],\"scatterpolargl\":[{\"type\":\"scatterpolargl\",\"marker\":{\"colorbar\":{\"outlinewidth\":0,\"ticks\":\"\"}}}],\"bar\":[{\"error_x\":{\"color\":\"#2a3f5f\"},\"error_y\":{\"color\":\"#2a3f5f\"},\"marker\":{\"line\":{\"color\":\"#E5ECF6\",\"width\":0.5},\"pattern\":{\"fillmode\":\"overlay\",\"size\":10,\"solidity\":0.2}},\"type\":\"bar\"}],\"scattergeo\":[{\"type\":\"scattergeo\",\"marker\":{\"colorbar\":{\"outlinewidth\":0,\"ticks\":\"\"}}}],\"scatterpolar\":[{\"type\":\"scatterpolar\",\"marker\":{\"colorbar\":{\"outlinewidth\":0,\"ticks\":\"\"}}}],\"histogram\":[{\"marker\":{\"pattern\":{\"fillmode\":\"overlay\",\"size\":10,\"solidity\":0.2}},\"type\":\"histogram\"}],\"scattergl\":[{\"type\":\"scattergl\",\"marker\":{\"colorbar\":{\"outlinewidth\":0,\"ticks\":\"\"}}}],\"scatter3d\":[{\"type\":\"scatter3d\",\"line\":{\"colorbar\":{\"outlinewidth\":0,\"ticks\":\"\"}},\"marker\":{\"colorbar\":{\"outlinewidth\":0,\"ticks\":\"\"}}}],\"scattermapbox\":[{\"type\":\"scattermapbox\",\"marker\":{\"colorbar\":{\"outlinewidth\":0,\"ticks\":\"\"}}}],\"scatterternary\":[{\"type\":\"scatterternary\",\"marker\":{\"colorbar\":{\"outlinewidth\":0,\"ticks\":\"\"}}}],\"scattercarpet\":[{\"type\":\"scattercarpet\",\"marker\":{\"colorbar\":{\"outlinewidth\":0,\"ticks\":\"\"}}}],\"carpet\":[{\"aaxis\":{\"endlinecolor\":\"#2a3f5f\",\"gridcolor\":\"white\",\"linecolor\":\"white\",\"minorgridcolor\":\"white\",\"startlinecolor\":\"#2a3f5f\"},\"baxis\":{\"endlinecolor\":\"#2a3f5f\",\"gridcolor\":\"white\",\"linecolor\":\"white\",\"minorgridcolor\":\"white\",\"startlinecolor\":\"#2a3f5f\"},\"type\":\"carpet\"}],\"table\":[{\"cells\":{\"fill\":{\"color\":\"#EBF0F8\"},\"line\":{\"color\":\"white\"}},\"header\":{\"fill\":{\"color\":\"#C8D4E3\"},\"line\":{\"color\":\"white\"}},\"type\":\"table\"}],\"barpolar\":[{\"marker\":{\"line\":{\"color\":\"#E5ECF6\",\"width\":0.5},\"pattern\":{\"fillmode\":\"overlay\",\"size\":10,\"solidity\":0.2}},\"type\":\"barpolar\"}],\"pie\":[{\"automargin\":true,\"type\":\"pie\"}]},\"layout\":{\"autotypenumbers\":\"strict\",\"colorway\":[\"#636efa\",\"#EF553B\",\"#00cc96\",\"#ab63fa\",\"#FFA15A\",\"#19d3f3\",\"#FF6692\",\"#B6E880\",\"#FF97FF\",\"#FECB52\"],\"font\":{\"color\":\"#2a3f5f\"},\"hovermode\":\"closest\",\"hoverlabel\":{\"align\":\"left\"},\"paper_bgcolor\":\"white\",\"plot_bgcolor\":\"#E5ECF6\",\"polar\":{\"bgcolor\":\"#E5ECF6\",\"angularaxis\":{\"gridcolor\":\"white\",\"linecolor\":\"white\",\"ticks\":\"\"},\"radialaxis\":{\"gridcolor\":\"white\",\"linecolor\":\"white\",\"ticks\":\"\"}},\"ternary\":{\"bgcolor\":\"#E5ECF6\",\"aaxis\":{\"gridcolor\":\"white\",\"linecolor\":\"white\",\"ticks\":\"\"},\"baxis\":{\"gridcolor\":\"white\",\"linecolor\":\"white\",\"ticks\":\"\"},\"caxis\":{\"gridcolor\":\"white\",\"linecolor\":\"white\",\"ticks\":\"\"}},\"coloraxis\":{\"colorbar\":{\"outlinewidth\":0,\"ticks\":\"\"}},\"colorscale\":{\"sequential\":[[0.0,\"#0d0887\"],[0.1111111111111111,\"#46039f\"],[0.2222222222222222,\"#7201a8\"],[0.3333333333333333,\"#9c179e\"],[0.4444444444444444,\"#bd3786\"],[0.5555555555555556,\"#d8576b\"],[0.6666666666666666,\"#ed7953\"],[0.7777777777777778,\"#fb9f3a\"],[0.8888888888888888,\"#fdca26\"],[1.0,\"#f0f921\"]],\"sequentialminus\":[[0.0,\"#0d0887\"],[0.1111111111111111,\"#46039f\"],[0.2222222222222222,\"#7201a8\"],[0.3333333333333333,\"#9c179e\"],[0.4444444444444444,\"#bd3786\"],[0.5555555555555556,\"#d8576b\"],[0.6666666666666666,\"#ed7953\"],[0.7777777777777778,\"#fb9f3a\"],[0.8888888888888888,\"#fdca26\"],[1.0,\"#f0f921\"]],\"diverging\":[[0,\"#8e0152\"],[0.1,\"#c51b7d\"],[0.2,\"#de77ae\"],[0.3,\"#f1b6da\"],[0.4,\"#fde0ef\"],[0.5,\"#f7f7f7\"],[0.6,\"#e6f5d0\"],[0.7,\"#b8e186\"],[0.8,\"#7fbc41\"],[0.9,\"#4d9221\"],[1,\"#276419\"]]},\"xaxis\":{\"gridcolor\":\"white\",\"linecolor\":\"white\",\"ticks\":\"\",\"title\":{\"standoff\":15},\"zerolinecolor\":\"white\",\"automargin\":true,\"zerolinewidth\":2},\"yaxis\":{\"gridcolor\":\"white\",\"linecolor\":\"white\",\"ticks\":\"\",\"title\":{\"standoff\":15},\"zerolinecolor\":\"white\",\"automargin\":true,\"zerolinewidth\":2},\"scene\":{\"xaxis\":{\"backgroundcolor\":\"#E5ECF6\",\"gridcolor\":\"white\",\"linecolor\":\"white\",\"showbackground\":true,\"ticks\":\"\",\"zerolinecolor\":\"white\",\"gridwidth\":2},\"yaxis\":{\"backgroundcolor\":\"#E5ECF6\",\"gridcolor\":\"white\",\"linecolor\":\"white\",\"showbackground\":true,\"ticks\":\"\",\"zerolinecolor\":\"white\",\"gridwidth\":2},\"zaxis\":{\"backgroundcolor\":\"#E5ECF6\",\"gridcolor\":\"white\",\"linecolor\":\"white\",\"showbackground\":true,\"ticks\":\"\",\"zerolinecolor\":\"white\",\"gridwidth\":2}},\"shapedefaults\":{\"line\":{\"color\":\"#2a3f5f\"}},\"annotationdefaults\":{\"arrowcolor\":\"#2a3f5f\",\"arrowhead\":0,\"arrowwidth\":1},\"geo\":{\"bgcolor\":\"white\",\"landcolor\":\"#E5ECF6\",\"subunitcolor\":\"white\",\"showland\":true,\"showlakes\":true,\"lakecolor\":\"white\"},\"title\":{\"x\":0.05},\"mapbox\":{\"style\":\"light\"}}},\"xaxis\":{\"anchor\":\"y\",\"domain\":[0.0,1.0],\"title\":{\"text\":\"time\"}},\"yaxis\":{\"anchor\":\"x\",\"domain\":[0.0,1.0],\"title\":{\"text\":\"g_force\"}},\"legend\":{\"tracegroupgap\":0},\"margin\":{\"t\":60}},                        {\"responsive\": true}                    ).then(function(){\n",
              "                            \n",
              "var gd = document.getElementById('8ccd176e-fa7b-496d-a6ca-741f6bbf450e');\n",
              "var x = new MutationObserver(function (mutations, observer) {{\n",
              "        var display = window.getComputedStyle(gd).display;\n",
              "        if (!display || display === 'none') {{\n",
              "            console.log([gd, 'removed!']);\n",
              "            Plotly.purge(gd);\n",
              "            observer.disconnect();\n",
              "        }}\n",
              "}});\n",
              "\n",
              "// Listen for the removal of the full notebook cells\n",
              "var notebookContainer = gd.closest('#notebook-container');\n",
              "if (notebookContainer) {{\n",
              "    x.observe(notebookContainer, {childList: true});\n",
              "}}\n",
              "\n",
              "// Listen for the clearing of the current output cell\n",
              "var outputEl = gd.closest('.output');\n",
              "if (outputEl) {{\n",
              "    x.observe(outputEl, {childList: true});\n",
              "}}\n",
              "\n",
              "                        })                };                            </script>        </div>\n",
              "</body>\n",
              "</html>"
            ]
          },
          "metadata": {}
        }
      ]
    },
    {
      "cell_type": "markdown",
      "source": [
        "You might have noticed that the y-axis has numbers that go from 0 to 8000. Typical G-force numbers aren't that big! Not even Tom Cruise himself could survive 8000 Gs. What the micro:bit is actually measuring is micro-gravities, so we need to convert our values to the more widely understood G-force. We'll do this by diving our values in the g_force column by 1000."
      ],
      "metadata": {
        "id": "FxbGLIS-AxDx"
      }
    },
    {
      "cell_type": "code",
      "source": [
        "df['g_force'] = df['g_force'].div(1000)\n",
        "\n",
        "fig = px.line(df, x='time', y='g_force')\n",
        "display(fig)"
      ],
      "metadata": {
        "colab": {
          "base_uri": "https://localhost:8080/",
          "height": 542
        },
        "id": "mq07Bz3FBLtt",
        "outputId": "4c14e2e1-2dea-4047-82ce-bd2317fb80ca"
      },
      "execution_count": 19,
      "outputs": [
        {
          "output_type": "display_data",
          "data": {
            "text/html": [
              "<html>\n",
              "<head><meta charset=\"utf-8\" /></head>\n",
              "<body>\n",
              "    <div>            <script src=\"https://cdnjs.cloudflare.com/ajax/libs/mathjax/2.7.5/MathJax.js?config=TeX-AMS-MML_SVG\"></script><script type=\"text/javascript\">if (window.MathJax && window.MathJax.Hub && window.MathJax.Hub.Config) {window.MathJax.Hub.Config({SVG: {font: \"STIX-Web\"}});}</script>                <script type=\"text/javascript\">window.PlotlyConfig = {MathJaxConfig: 'local'};</script>\n",
              "        <script charset=\"utf-8\" src=\"https://cdn.plot.ly/plotly-2.24.1.min.js\"></script>                <div id=\"074da7c5-326e-4062-b8d6-3609e75080c3\" class=\"plotly-graph-div\" style=\"height:525px; width:100%;\"></div>            <script type=\"text/javascript\">                                    window.PLOTLYENV=window.PLOTLYENV || {};                                    if (document.getElementById(\"074da7c5-326e-4062-b8d6-3609e75080c3\")) {                    Plotly.newPlot(                        \"074da7c5-326e-4062-b8d6-3609e75080c3\",                        [{\"hovertemplate\":\"time=%{x}\\u003cbr\\u003eg_force=%{y}\\u003cextra\\u003e\\u003c\\u002fextra\\u003e\",\"legendgroup\":\"\",\"line\":{\"color\":\"#636efa\",\"dash\":\"solid\"},\"marker\":{\"symbol\":\"circle\"},\"mode\":\"lines\",\"name\":\"\",\"orientation\":\"v\",\"showlegend\":false,\"x\":[0.0,0.005,0.023,0.047,0.069,0.093,0.121,0.145,0.169,0.192,0.212,0.241,0.265,0.287,0.312,0.335,0.357,0.381,0.404,0.433,0.457,0.479,0.503,0.527,0.549,0.574,0.601,0.625,0.649,0.674,0.698,0.721,0.751,0.774,0.797,0.82,0.843,0.867,0.896,0.919,0.943,0.965,0.989,1.013,1.037,1.059,1.087,1.111,1.136,1.157,1.184,1.209,1.226,1.256,1.278,1.301,1.325,1.349,1.374,1.396,1.419,1.444,1.472,1.495,1.519,1.541,1.565,1.589,1.611,1.636,1.658,1.688,1.711,1.733,1.757,1.792,1.808,1.838,1.861,1.884,1.937,1.943,1.955,1.977,2.001,2.025,2.051,2.073,2.096,2.125,2.149,2.174,2.198,2.216,2.245,2.269,2.292,2.315,2.34,2.363,2.387,2.411,2.433,2.457,2.481,2.505,2.533,2.552,2.576,2.605,2.629,2.653,2.684,2.696,2.725,2.75,2.775,2.796,2.819,2.844,2.867,2.893,2.924,2.948,2.966,2.991,3.019,3.043,3.062,3.091,3.115,3.139,3.187,3.211,3.235,3.258,3.281,3.306,3.327,3.352,3.376,3.399,3.423,3.449,3.474,3.497,3.543,3.567,3.591,3.62,3.639,3.663,3.691,3.715,3.739,3.761,3.786,3.812,3.833,3.858,3.881,3.904,3.927,3.982,3.988,4.008,4.031,4.055,4.079,4.101,4.125,4.148,4.177,4.201,4.225,4.249,4.273,4.297,4.319,4.343,4.367,4.391,4.415,4.439,4.463,4.485,4.509,4.532,4.561,4.585,4.609,4.633,4.657,4.681,4.704,4.724,4.753,4.778,4.807,4.826,4.849,4.896,4.919,4.947,4.971,4.99,5.012,5.041,5.064,5.093,5.118,5.144,5.187,5.235,5.267,5.285,5.309,5.332,5.355,5.407,5.432,5.468,5.478,5.501,5.525,5.57,5.576,5.598,5.621,5.645,5.669,5.693,5.739,5.763,5.792,5.819,5.837,5.861,5.885,5.908,5.931,5.955,5.978,6.007,6.031,6.053,6.077,6.099,6.123,6.153,6.177,6.201,6.225,6.256,6.273,6.297,6.321,6.345,6.369,6.393,6.417,6.469,6.493,6.54,6.563,6.586,6.609,6.639,6.661,6.685,6.708,6.731,6.761,6.778,6.801,6.825,6.877,6.9,6.923,6.947,6.969,6.999,7.019,7.043,7.067,7.091,7.115,7.139,7.162,7.185,7.209,7.237,7.267,7.29,7.312,7.336,7.359,7.383,7.407,7.435,7.481,7.505,7.529,7.551,7.575,7.599,7.626,7.65,7.673,7.703,7.721,7.744,7.791,7.819,7.844,7.868,7.891,7.915,7.938,7.962,7.985,8.009,8.031,8.055,8.084,8.107,8.131,8.153,8.176,8.199,8.223,8.247,8.271,8.299,8.324,8.351,8.375,8.4,8.424,8.447,8.471,8.495,8.517,8.547,8.564,8.613,8.643,8.665,8.689,8.713,8.736,8.759,8.783,8.811,8.828,8.857,8.881,8.905,8.927,8.951,8.975,8.997,9.027,9.05,9.073,9.096,9.119,9.143,9.167,9.19,9.213,9.237,9.261,9.287,9.333,9.36,9.384,9.407,9.437,9.461,9.486,9.509,9.533,9.556,9.583,9.605,9.629,9.652,9.679,9.703,9.727,9.751,9.776,9.798,9.822,9.85,9.873,9.891,9.919,9.943,9.967,9.99,10.013,10.036,10.059,10.083,10.112,10.135,10.159,10.181,10.205,10.228,10.257,10.275,10.303,10.327,10.35,10.372,10.397,10.419,10.444,10.467,10.496,10.524,10.546,10.57,10.599,10.617,10.641,10.666,10.69,10.719,10.743,10.763,10.787,10.81,10.839,10.857,10.885,10.909,10.931,10.955,10.979,11.001,11.025,11.076,11.103,11.121,11.145,11.169,11.221,11.245,11.269,11.293,11.318,11.343,11.364,11.387,11.411,11.436,11.459,11.482,11.506,11.53,11.557,11.581,11.608,11.632,11.656,11.685,11.703,11.728,11.751,11.781,11.804,11.828,11.851,11.875,11.897,11.921,11.945,11.967,11.993,12.041,12.063,12.088,12.112,12.136,12.187,12.21,12.233,12.256,12.285,12.309,12.331,12.355,12.379,12.403,12.427,12.452,12.475,12.499,12.525,12.549,12.567,12.59,12.62,12.639,12.667,12.691,12.721,12.745,12.767,12.815,12.839,12.863,12.888,12.91,12.936,12.959,12.983,13.006,13.029,13.053,13.081,13.106,13.13,13.153,13.177,13.199,13.223,13.247,13.27,13.3,13.317,13.341,13.366,13.39,13.414,13.438,13.461,13.487,13.51,13.539,13.561,13.581,13.61,13.633,13.657,13.681,13.706,13.73,13.753,13.778,13.807,13.829,13.855,13.876,13.904,13.925,13.951,13.975,13.999,14.022,14.045,14.069,14.097,14.115,14.139,14.164,14.188,14.216,14.239,14.261,14.283,14.307,14.337,14.359,14.384,14.408,14.452,14.478,14.501,14.526,14.55,14.575,14.6,14.648,14.667,14.697,14.72,14.744,14.768,14.791,14.815,14.838,14.867,14.893,14.918,14.942,14.965,15.012,15.038,15.059,15.083,15.105,15.132,15.156,15.178,15.204,15.227,15.252,15.277,15.3,15.325,15.349,15.373,15.397,15.421,15.444,15.47,15.493,15.517,15.54,15.564,15.588,15.612,15.636,15.659,15.689,15.707,15.729,15.753,15.783,15.801,15.826,15.873,15.927,15.953,16.005,16.024,16.047,16.076,16.1,16.125,16.147,16.201,16.219,16.243,16.267,16.291,16.319,16.336,16.361,16.384,16.413,16.432,16.456,16.485,16.508,16.533,16.551,16.603,16.627,16.653,16.671,16.701,16.72,16.745,16.767,16.796,16.819,16.843,16.867,16.893,16.913,16.937,16.961,16.985,17.009,17.039,17.063,17.089,17.114,17.136,17.159,17.184,17.209,17.233,17.257,17.281,17.304,17.328,17.352,17.377,17.403,17.421,17.45,17.475,17.498,17.521,17.545,17.569,17.599,17.617,17.637,17.665,17.69,17.714,17.737,17.76,17.786,17.81,17.833,17.856,17.879,17.904,17.927,17.953,17.977,18.001,18.026,18.048,18.071,18.097,18.121,18.151,18.177,18.201,18.22,18.243,18.272,18.291,18.339,18.367,18.415,18.437,18.463,18.511,18.535,18.565,18.585,18.606,18.63,18.653,18.676,18.703,18.725,18.748,18.772,18.801,18.82,18.847,18.872,18.896,18.917,18.941,18.966,18.989,19.011,19.039,19.063,19.088,19.111,19.131,19.158,19.182,19.21,19.233,19.261,19.284,19.307,19.331,19.353,19.383,19.401,19.426,19.451,19.475,19.498,19.523,19.545,19.571,19.595,19.62,19.644,19.668,19.691,19.715,19.746,19.764,19.786,19.81,19.833,19.863,19.887,19.905,19.929,19.953,19.977,20.004,20.029,20.049,20.073,20.101,20.126,20.151,20.169,20.195,20.218,20.247,20.265,20.293,20.324,20.347,20.371,20.396,20.42,20.444,20.467,20.491,20.515,20.538,20.564,20.588,20.611,20.639,20.657,20.679,20.709,20.733,20.752,20.777,20.8,20.825,20.849,20.873,20.899,20.921,20.945,20.969,20.993,21.017,21.04,21.064,21.088,21.111,21.135,21.163,21.187,21.21,21.234,21.256,21.284,21.312,21.329,21.352,21.381,21.41,21.433,21.458,21.482,21.505,21.533,21.551,21.576,21.599,21.623,21.645,21.675,21.695,21.719,21.745,21.77,21.793,21.818,21.841,21.867,21.886,21.913,21.937,21.961,21.984,22.007,22.031,22.059,22.078,22.101,22.126,22.15,22.175,22.201,22.224,22.246,22.272,22.297,22.317,22.345,22.37,22.393,22.423,22.441,22.466,22.496,22.521,22.539,22.564,22.595,22.613,22.638,22.667,22.686,22.71,22.732,22.756,22.779,22.804,22.829,22.851,22.879,22.904,22.923,22.947,22.972,22.996,23.019,23.043,23.072,23.091,23.121,23.145,23.164,23.189,23.212,23.236,23.263,23.282,23.316,23.333,23.357,23.381,23.407,23.431,23.455,23.478,23.503,23.524,23.553,23.583,23.601,23.626,23.653,23.673,23.698,23.726,23.75,23.795,23.802,23.819,23.844,23.867,23.891,23.915,23.939,23.964,23.988,24.011,24.035,24.058,24.087,24.105,24.129,24.153,24.177,24.208,24.231,24.249],\"xaxis\":\"x\",\"y\":[0.974,0.971,0.972,1.008,1.034,1.053,1.072,1.089,1.106,1.154,1.142,1.158,1.106,1.073,1.056,1.026,1.017,1.002,0.962,0.979,0.974,0.958,1.017,0.988,0.978,0.974,0.999,1.034,1.031,1.028,1.042,1.062,1.042,1.027,1.042,1.049,1.027,1.029,1.014,0.992,1.01,0.994,1.01,0.97,0.998,1.017,0.998,1.017,1.048,1.001,1.001,1.018,1.049,1.033,1.03,1.033,1.07,1.012,1.014,1.009,1.046,1.043,1.04,1.069,1.075,1.04,1.058,1.058,1.073,1.055,1.037,1.008,0.993,0.975,1.008,0.973,0.963,0.976,0.976,1.03,1.008,0.96,0.96,0.914,0.913,0.911,0.942,0.93,0.918,0.894,1.012,1.11,1.132,1.071,1.09,1.188,1.2,1.121,1.088,1.168,1.447,1.554,0.59,0.351,1.266,1.301,1.648,2.061,1.422,1.164,1.152,1.315,1.175,1.129,1.112,1.018,0.985,0.884,0.829,0.753,0.724,0.766,0.964,1.036,1.172,1.304,1.463,1.503,1.569,1.573,1.564,1.416,1.376,1.327,1.32,1.216,1.149,1.138,1.118,1.057,0.79,0.725,0.68,0.66,0.665,0.674,0.659,0.637,1.044,1.257,1.622,1.826,2.163,2.629,3.0,3.408,3.498,3.443,3.441,3.249,2.688,2.354,2.073,1.921,1.729,1.364,1.14,0.982,0.877,0.715,0.66,0.675,0.69,0.515,0.455,0.398,0.361,0.259,0.198,0.135,0.164,0.179,0.192,0.321,0.432,0.432,0.369,0.372,0.441,0.678,0.36,0.241,1.072,2.493,2.361,2.659,2.727,2.94,3.169,3.168,2.828,3.177,2.912,2.793,2.334,2.098,1.906,1.754,1.703,1.526,1.408,1.283,1.141,0.709,0.586,0.496,0.465,0.4,0.359,0.352,0.577,0.541,0.571,0.602,0.633,0.799,0.992,1.093,1.171,1.283,1.61,1.854,2.107,2.601,3.038,3.484,4.253,4.671,5.091,5.046,4.677,4.636,4.465,4.249,3.766,2.897,2.446,2.146,1.846,1.538,1.231,1.013,0.906,0.721,0.524,0.459,0.335,0.305,0.314,0.107,0.098,0.078,0.172,0.214,0.387,0.259,0.053,0.144,0.235,0.375,0.492,0.529,0.992,2.408,1.217,1.192,2.546,3.121,3.478,3.573,4.964,4.064,3.766,3.807,3.705,3.536,3.375,3.242,2.993,2.68,2.366,2.089,1.532,1.399,1.285,1.057,0.817,0.693,0.602,0.63,0.598,0.538,0.459,0.433,0.349,0.327,0.28,0.25,0.32,0.426,0.631,0.747,0.826,0.938,1.194,1.325,1.795,1.994,1.885,3.172,3.497,3.818,4.128,4.463,4.872,5.036,5.175,5.194,4.806,4.281,3.329,2.804,2.408,1.674,1.642,1.723,1.859,1.13,1.035,0.807,0.643,0.571,0.411,0.323,0.117,0.059,0.288,0.433,0.288,0.288,0.215,0.246,0.307,0.444,0.382,0.459,0.589,7.663,0.762,1.226,2.009,2.383,2.722,3.616,4.376,5.152,5.34,5.434,5.855,5.349,4.532,4.412,3.883,3.449,3.197,2.415,2.341,1.971,1.548,1.412,1.131,0.962,0.838,0.321,0.664,0.513,0.637,0.466,0.516,0.37,0.499,0.331,0.309,0.337,0.272,0.317,0.351,0.401,0.377,0.409,0.394,0.47,0.624,0.947,1.07,1.523,1.928,3.083,3.421,3.774,4.446,4.613,5.412,5.757,6.007,6.168,6.067,5.697,5.061,4.773,4.5,4.19,3.72,2.82,2.387,1.985,1.333,1.088,0.915,0.709,0.786,0.618,0.345,0.403,0.202,0.327,0.11,0.229,0.258,0.141,0.141,0.242,0.238,0.224,0.25,0.262,0.279,0.286,0.465,3.658,3.942,1.044,0.351,0.225,0.235,1.121,2.415,7.046,4.971,6.009,6.055,7.604,7.484,6.972,6.399,6.085,4.751,4.303,4.034,3.496,2.915,3.106,2.396,1.789,1.04,0.921,0.798,0.751,0.595,0.645,0.573,0.659,0.497,0.531,0.418,0.383,0.388,0.346,0.344,0.537,0.486,0.526,0.476,1.148,0.728,1.161,1.27,3.266,0.851,3.065,1.258,3.393,2.842,4.341,4.552,4.711,4.7,4.561,4.187,3.902,3.805,3.714,3.094,2.837,2.265,2.056,1.374,1.191,0.982,0.8,0.571,0.395,0.325,0.29,0.273,0.272,0.257,0.148,0.2,0.211,0.114,0.167,0.312,0.417,0.529,0.675,0.709,0.98,1.154,1.881,1.488,1.339,2.048,2.439,2.691,2.733,2.984,3.4,3.558,3.677,3.894,3.876,3.584,3.34,3.154,2.931,2.425,2.127,1.947,1.923,1.855,1.521,1.355,1.077,0.969,0.743,0.49,0.412,0.276,0.276,0.225,0.195,0.081,0.102,0.163,0.211,0.258,0.337,0.891,0.69,0.957,1.409,1.359,1.197,1.281,1.579,1.876,2.778,3.095,3.816,4.523,4.44,4.578,5.245,5.817,6.286,5.874,5.716,5.214,3.927,3.252,2.771,1.616,1.104,1.231,0.818,0.553,0.55,0.343,0.305,0.155,0.215,0.161,0.167,0.132,0.147,0.129,0.103,0.098,0.094,0.05,0.053,0.093,0.145,0.959,0.771,0.75,1.199,1.158,1.197,1.259,2.119,2.392,3.054,5.435,6.396,7.093,6.134,5.685,5.047,3.402,3.521,3.444,3.223,2.714,1.406,1.093,0.706,0.605,0.4,0.4,0.409,0.321,0.373,0.215,0.192,0.204,0.163,0.136,0.154,0.151,0.176,0.16,0.227,7.656,0.571,1.263,1.261,1.486,1.916,1.883,2.068,2.344,2.463,3.455,3.549,3.652,4.045,4.207,4.825,4.892,5.252,5.272,4.726,4.158,3.484,3.622,3.849,2.514,2.911,0.935,1.402,0.645,0.493,0.494,0.496,0.321,0.286,0.144,0.249,0.34,0.403,0.415,0.301,0.224,0.233,0.693,0.455,0.448,0.508,0.492,0.556,0.599,0.6,0.556,0.371,1.077,2.964,1.762,3.167,3.203,3.143,2.885,2.76,2.603,2.853,3.042,2.886,2.712,2.651,2.432,2.021,3.022,1.321,0.986,0.555,1.242,1.08,0.79,1.326,1.102,1.045,0.726,0.821,1.026,1.123,1.197,1.142,1.517,1.282,1.337,1.277,1.297,1.325,1.39,1.33,1.28,1.248,1.161,1.131,1.028,1.168,1.102,1.123,1.045,1.081,1.097,1.108,1.138,1.185,1.218,1.235,1.188,1.125,1.125,1.092,1.094,1.077,1.061,1.015,1.034,1.018,1.02,1.018,1.05,1.033,1.035,1.066,1.048,1.031,1.037,1.036,1.064,1.056,1.067,1.083,1.096,1.064,1.082,1.015,1.017,1.036,1.018,1.002,1.002,1.02,1.024,0.993,1.058,1.04,1.023,1.04,1.022,1.04,0.989,0.993,1.012,1.026,1.022,1.022,1.038,1.036,1.033,1.069,1.033,1.031,1.051,1.034,1.048,1.002,1.05,1.048,1.037,1.066,1.037,1.053,1.053,1.051,1.04,1.051,1.039,1.008,1.037,1.023,1.04,1.026,1.022,1.005,1.008,1.008,1.006,1.029,1.025,1.023,1.02,1.019,1.039,1.049,1.019,1.022,1.038,1.04,1.022,1.02,1.038,1.038,1.054,1.039,1.023,1.009,1.004,1.004,1.036,1.021,1.052,1.053,1.05,1.021,1.017,1.037,1.035,1.032,1.019,1.021,1.025,1.037,1.025,1.037,1.054,1.023,1.067,1.054,1.039,1.066,1.04,1.037,1.052,1.04,1.021,1.006,1.038,0.993,1.001,1.006,1.019,1.039,1.021,1.054,1.019,1.019,1.033,1.019,1.032,1.033,1.018,1.019,1.032,1.033,1.048,1.033,1.016,1.021,1.025,1.021,1.01,1.025,1.042,1.012,1.027,1.038,1.037,1.039,1.021,1.038,1.018,1.02,1.018,1.051,1.004,1.002,1.038,1.071,1.028,1.037,1.018,1.031,1.025,1.023,1.021,1.021,1.039,1.023,1.023,1.027,1.025,1.025,1.014,1.022,1.037,1.02,1.036,1.019,1.016,1.032,1.033,1.039,1.037,1.037,1.003,1.025,1.023,1.022,1.042,1.022,1.039,1.006,1.023],\"yaxis\":\"y\",\"type\":\"scatter\"}],                        {\"template\":{\"data\":{\"histogram2dcontour\":[{\"type\":\"histogram2dcontour\",\"colorbar\":{\"outlinewidth\":0,\"ticks\":\"\"},\"colorscale\":[[0.0,\"#0d0887\"],[0.1111111111111111,\"#46039f\"],[0.2222222222222222,\"#7201a8\"],[0.3333333333333333,\"#9c179e\"],[0.4444444444444444,\"#bd3786\"],[0.5555555555555556,\"#d8576b\"],[0.6666666666666666,\"#ed7953\"],[0.7777777777777778,\"#fb9f3a\"],[0.8888888888888888,\"#fdca26\"],[1.0,\"#f0f921\"]]}],\"choropleth\":[{\"type\":\"choropleth\",\"colorbar\":{\"outlinewidth\":0,\"ticks\":\"\"}}],\"histogram2d\":[{\"type\":\"histogram2d\",\"colorbar\":{\"outlinewidth\":0,\"ticks\":\"\"},\"colorscale\":[[0.0,\"#0d0887\"],[0.1111111111111111,\"#46039f\"],[0.2222222222222222,\"#7201a8\"],[0.3333333333333333,\"#9c179e\"],[0.4444444444444444,\"#bd3786\"],[0.5555555555555556,\"#d8576b\"],[0.6666666666666666,\"#ed7953\"],[0.7777777777777778,\"#fb9f3a\"],[0.8888888888888888,\"#fdca26\"],[1.0,\"#f0f921\"]]}],\"heatmap\":[{\"type\":\"heatmap\",\"colorbar\":{\"outlinewidth\":0,\"ticks\":\"\"},\"colorscale\":[[0.0,\"#0d0887\"],[0.1111111111111111,\"#46039f\"],[0.2222222222222222,\"#7201a8\"],[0.3333333333333333,\"#9c179e\"],[0.4444444444444444,\"#bd3786\"],[0.5555555555555556,\"#d8576b\"],[0.6666666666666666,\"#ed7953\"],[0.7777777777777778,\"#fb9f3a\"],[0.8888888888888888,\"#fdca26\"],[1.0,\"#f0f921\"]]}],\"heatmapgl\":[{\"type\":\"heatmapgl\",\"colorbar\":{\"outlinewidth\":0,\"ticks\":\"\"},\"colorscale\":[[0.0,\"#0d0887\"],[0.1111111111111111,\"#46039f\"],[0.2222222222222222,\"#7201a8\"],[0.3333333333333333,\"#9c179e\"],[0.4444444444444444,\"#bd3786\"],[0.5555555555555556,\"#d8576b\"],[0.6666666666666666,\"#ed7953\"],[0.7777777777777778,\"#fb9f3a\"],[0.8888888888888888,\"#fdca26\"],[1.0,\"#f0f921\"]]}],\"contourcarpet\":[{\"type\":\"contourcarpet\",\"colorbar\":{\"outlinewidth\":0,\"ticks\":\"\"}}],\"contour\":[{\"type\":\"contour\",\"colorbar\":{\"outlinewidth\":0,\"ticks\":\"\"},\"colorscale\":[[0.0,\"#0d0887\"],[0.1111111111111111,\"#46039f\"],[0.2222222222222222,\"#7201a8\"],[0.3333333333333333,\"#9c179e\"],[0.4444444444444444,\"#bd3786\"],[0.5555555555555556,\"#d8576b\"],[0.6666666666666666,\"#ed7953\"],[0.7777777777777778,\"#fb9f3a\"],[0.8888888888888888,\"#fdca26\"],[1.0,\"#f0f921\"]]}],\"surface\":[{\"type\":\"surface\",\"colorbar\":{\"outlinewidth\":0,\"ticks\":\"\"},\"colorscale\":[[0.0,\"#0d0887\"],[0.1111111111111111,\"#46039f\"],[0.2222222222222222,\"#7201a8\"],[0.3333333333333333,\"#9c179e\"],[0.4444444444444444,\"#bd3786\"],[0.5555555555555556,\"#d8576b\"],[0.6666666666666666,\"#ed7953\"],[0.7777777777777778,\"#fb9f3a\"],[0.8888888888888888,\"#fdca26\"],[1.0,\"#f0f921\"]]}],\"mesh3d\":[{\"type\":\"mesh3d\",\"colorbar\":{\"outlinewidth\":0,\"ticks\":\"\"}}],\"scatter\":[{\"fillpattern\":{\"fillmode\":\"overlay\",\"size\":10,\"solidity\":0.2},\"type\":\"scatter\"}],\"parcoords\":[{\"type\":\"parcoords\",\"line\":{\"colorbar\":{\"outlinewidth\":0,\"ticks\":\"\"}}}],\"scatterpolargl\":[{\"type\":\"scatterpolargl\",\"marker\":{\"colorbar\":{\"outlinewidth\":0,\"ticks\":\"\"}}}],\"bar\":[{\"error_x\":{\"color\":\"#2a3f5f\"},\"error_y\":{\"color\":\"#2a3f5f\"},\"marker\":{\"line\":{\"color\":\"#E5ECF6\",\"width\":0.5},\"pattern\":{\"fillmode\":\"overlay\",\"size\":10,\"solidity\":0.2}},\"type\":\"bar\"}],\"scattergeo\":[{\"type\":\"scattergeo\",\"marker\":{\"colorbar\":{\"outlinewidth\":0,\"ticks\":\"\"}}}],\"scatterpolar\":[{\"type\":\"scatterpolar\",\"marker\":{\"colorbar\":{\"outlinewidth\":0,\"ticks\":\"\"}}}],\"histogram\":[{\"marker\":{\"pattern\":{\"fillmode\":\"overlay\",\"size\":10,\"solidity\":0.2}},\"type\":\"histogram\"}],\"scattergl\":[{\"type\":\"scattergl\",\"marker\":{\"colorbar\":{\"outlinewidth\":0,\"ticks\":\"\"}}}],\"scatter3d\":[{\"type\":\"scatter3d\",\"line\":{\"colorbar\":{\"outlinewidth\":0,\"ticks\":\"\"}},\"marker\":{\"colorbar\":{\"outlinewidth\":0,\"ticks\":\"\"}}}],\"scattermapbox\":[{\"type\":\"scattermapbox\",\"marker\":{\"colorbar\":{\"outlinewidth\":0,\"ticks\":\"\"}}}],\"scatterternary\":[{\"type\":\"scatterternary\",\"marker\":{\"colorbar\":{\"outlinewidth\":0,\"ticks\":\"\"}}}],\"scattercarpet\":[{\"type\":\"scattercarpet\",\"marker\":{\"colorbar\":{\"outlinewidth\":0,\"ticks\":\"\"}}}],\"carpet\":[{\"aaxis\":{\"endlinecolor\":\"#2a3f5f\",\"gridcolor\":\"white\",\"linecolor\":\"white\",\"minorgridcolor\":\"white\",\"startlinecolor\":\"#2a3f5f\"},\"baxis\":{\"endlinecolor\":\"#2a3f5f\",\"gridcolor\":\"white\",\"linecolor\":\"white\",\"minorgridcolor\":\"white\",\"startlinecolor\":\"#2a3f5f\"},\"type\":\"carpet\"}],\"table\":[{\"cells\":{\"fill\":{\"color\":\"#EBF0F8\"},\"line\":{\"color\":\"white\"}},\"header\":{\"fill\":{\"color\":\"#C8D4E3\"},\"line\":{\"color\":\"white\"}},\"type\":\"table\"}],\"barpolar\":[{\"marker\":{\"line\":{\"color\":\"#E5ECF6\",\"width\":0.5},\"pattern\":{\"fillmode\":\"overlay\",\"size\":10,\"solidity\":0.2}},\"type\":\"barpolar\"}],\"pie\":[{\"automargin\":true,\"type\":\"pie\"}]},\"layout\":{\"autotypenumbers\":\"strict\",\"colorway\":[\"#636efa\",\"#EF553B\",\"#00cc96\",\"#ab63fa\",\"#FFA15A\",\"#19d3f3\",\"#FF6692\",\"#B6E880\",\"#FF97FF\",\"#FECB52\"],\"font\":{\"color\":\"#2a3f5f\"},\"hovermode\":\"closest\",\"hoverlabel\":{\"align\":\"left\"},\"paper_bgcolor\":\"white\",\"plot_bgcolor\":\"#E5ECF6\",\"polar\":{\"bgcolor\":\"#E5ECF6\",\"angularaxis\":{\"gridcolor\":\"white\",\"linecolor\":\"white\",\"ticks\":\"\"},\"radialaxis\":{\"gridcolor\":\"white\",\"linecolor\":\"white\",\"ticks\":\"\"}},\"ternary\":{\"bgcolor\":\"#E5ECF6\",\"aaxis\":{\"gridcolor\":\"white\",\"linecolor\":\"white\",\"ticks\":\"\"},\"baxis\":{\"gridcolor\":\"white\",\"linecolor\":\"white\",\"ticks\":\"\"},\"caxis\":{\"gridcolor\":\"white\",\"linecolor\":\"white\",\"ticks\":\"\"}},\"coloraxis\":{\"colorbar\":{\"outlinewidth\":0,\"ticks\":\"\"}},\"colorscale\":{\"sequential\":[[0.0,\"#0d0887\"],[0.1111111111111111,\"#46039f\"],[0.2222222222222222,\"#7201a8\"],[0.3333333333333333,\"#9c179e\"],[0.4444444444444444,\"#bd3786\"],[0.5555555555555556,\"#d8576b\"],[0.6666666666666666,\"#ed7953\"],[0.7777777777777778,\"#fb9f3a\"],[0.8888888888888888,\"#fdca26\"],[1.0,\"#f0f921\"]],\"sequentialminus\":[[0.0,\"#0d0887\"],[0.1111111111111111,\"#46039f\"],[0.2222222222222222,\"#7201a8\"],[0.3333333333333333,\"#9c179e\"],[0.4444444444444444,\"#bd3786\"],[0.5555555555555556,\"#d8576b\"],[0.6666666666666666,\"#ed7953\"],[0.7777777777777778,\"#fb9f3a\"],[0.8888888888888888,\"#fdca26\"],[1.0,\"#f0f921\"]],\"diverging\":[[0,\"#8e0152\"],[0.1,\"#c51b7d\"],[0.2,\"#de77ae\"],[0.3,\"#f1b6da\"],[0.4,\"#fde0ef\"],[0.5,\"#f7f7f7\"],[0.6,\"#e6f5d0\"],[0.7,\"#b8e186\"],[0.8,\"#7fbc41\"],[0.9,\"#4d9221\"],[1,\"#276419\"]]},\"xaxis\":{\"gridcolor\":\"white\",\"linecolor\":\"white\",\"ticks\":\"\",\"title\":{\"standoff\":15},\"zerolinecolor\":\"white\",\"automargin\":true,\"zerolinewidth\":2},\"yaxis\":{\"gridcolor\":\"white\",\"linecolor\":\"white\",\"ticks\":\"\",\"title\":{\"standoff\":15},\"zerolinecolor\":\"white\",\"automargin\":true,\"zerolinewidth\":2},\"scene\":{\"xaxis\":{\"backgroundcolor\":\"#E5ECF6\",\"gridcolor\":\"white\",\"linecolor\":\"white\",\"showbackground\":true,\"ticks\":\"\",\"zerolinecolor\":\"white\",\"gridwidth\":2},\"yaxis\":{\"backgroundcolor\":\"#E5ECF6\",\"gridcolor\":\"white\",\"linecolor\":\"white\",\"showbackground\":true,\"ticks\":\"\",\"zerolinecolor\":\"white\",\"gridwidth\":2},\"zaxis\":{\"backgroundcolor\":\"#E5ECF6\",\"gridcolor\":\"white\",\"linecolor\":\"white\",\"showbackground\":true,\"ticks\":\"\",\"zerolinecolor\":\"white\",\"gridwidth\":2}},\"shapedefaults\":{\"line\":{\"color\":\"#2a3f5f\"}},\"annotationdefaults\":{\"arrowcolor\":\"#2a3f5f\",\"arrowhead\":0,\"arrowwidth\":1},\"geo\":{\"bgcolor\":\"white\",\"landcolor\":\"#E5ECF6\",\"subunitcolor\":\"white\",\"showland\":true,\"showlakes\":true,\"lakecolor\":\"white\"},\"title\":{\"x\":0.05},\"mapbox\":{\"style\":\"light\"}}},\"xaxis\":{\"anchor\":\"y\",\"domain\":[0.0,1.0],\"title\":{\"text\":\"time\"}},\"yaxis\":{\"anchor\":\"x\",\"domain\":[0.0,1.0],\"title\":{\"text\":\"g_force\"}},\"legend\":{\"tracegroupgap\":0},\"margin\":{\"t\":60}},                        {\"responsive\": true}                    ).then(function(){\n",
              "                            \n",
              "var gd = document.getElementById('074da7c5-326e-4062-b8d6-3609e75080c3');\n",
              "var x = new MutationObserver(function (mutations, observer) {{\n",
              "        var display = window.getComputedStyle(gd).display;\n",
              "        if (!display || display === 'none') {{\n",
              "            console.log([gd, 'removed!']);\n",
              "            Plotly.purge(gd);\n",
              "            observer.disconnect();\n",
              "        }}\n",
              "}});\n",
              "\n",
              "// Listen for the removal of the full notebook cells\n",
              "var notebookContainer = gd.closest('#notebook-container');\n",
              "if (notebookContainer) {{\n",
              "    x.observe(notebookContainer, {childList: true});\n",
              "}}\n",
              "\n",
              "// Listen for the clearing of the current output cell\n",
              "var outputEl = gd.closest('.output');\n",
              "if (outputEl) {{\n",
              "    x.observe(outputEl, {childList: true});\n",
              "}}\n",
              "\n",
              "                        })                };                            </script>        </div>\n",
              "</body>\n",
              "</html>"
            ]
          },
          "metadata": {}
        }
      ]
    }
  ]
}