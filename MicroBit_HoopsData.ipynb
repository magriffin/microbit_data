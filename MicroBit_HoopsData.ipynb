{
  "nbformat": 4,
  "nbformat_minor": 0,
  "metadata": {
    "colab": {
      "provenance": []
    },
    "kernelspec": {
      "name": "python3",
      "display_name": "Python 3"
    },
    "language_info": {
      "name": "python"
    }
  },
  "cells": [
    {
      "cell_type": "markdown",
      "source": [
        "Open this notebook in [Callysto](https://hub.callysto.ca/jupyter/hub/user-redirect/git-pull?repo=https%3A%2F%2Fgithub.com%2Fmagriffin%2Fmicrobit_data&branch=main&subPath=MicroBit_Data.ipynb&depth=1) or [Colab](https://githubtocolab.com/magriffin/microbit_data/blob/main/MicroBit_Data.ipynb)."
      ],
      "metadata": {
        "id": "qUm752r0DEP8"
      }
    },
    {
      "cell_type": "markdown",
      "source": [
        "## Program Setup"
      ],
      "metadata": {
        "id": "j9snzH8LS0cH"
      }
    },
    {
      "cell_type": "markdown",
      "source": [
        "This first code block may have to be run if these libraries haven't already been installed. Once this has been done once, it will never have to be done again. You can skip it for now, but if you get an error message related to a library not being installed, go ahead and run it."
      ],
      "metadata": {
        "id": "bD22lx5IS23A"
      }
    },
    {
      "cell_type": "code",
      "source": [
        "%pip install pandas -q\n",
        "%pip install plotly_express -q"
      ],
      "metadata": {
        "id": "yc3uego9TCmA"
      },
      "execution_count": null,
      "outputs": []
    },
    {
      "cell_type": "markdown",
      "source": [
        "## Introduction"
      ],
      "metadata": {
        "id": "gg9W9FxGS8a9"
      }
    },
    {
      "cell_type": "markdown",
      "source": [
        "**Micro:bit Data**\n",
        "\n",
        "In this lesson, we will use what we've learned about getting data from a Google Sheets file, but this time populate that sheet with data that we collect from a micro:bit.\n",
        "\n",
        "The micro:bit can export its data to a CSV file, which we will then import into a Google Sheet so we can bring it into our notebook. [Click here](https://docs.google.com/presentation/d/1xVEAijLUl99E8X1k6doY0j9ZQ5tX2upGuEF4sPgJozQ/edit#slide=id.g25d2556132a_0_263) for a quick overview on the basics of collecting, exporting, and importing data with a micro:bit."
      ],
      "metadata": {
        "id": "uP8WjdWvSSj1"
      }
    },
    {
      "cell_type": "code",
      "source": [
        "# import plotly.express and pandas\n",
        "import plotly.express as px\n",
        "import pandas as pd"
      ],
      "metadata": {
        "id": "D2gg61sVStsk"
      },
      "execution_count": null,
      "outputs": []
    },
    {
      "cell_type": "markdown",
      "source": [
        "As a reminder, when we configure the URL of the Google Sheet, we make a change at the end, like this:\n",
        "\n",
        "If the URL is\n",
        "\n",
        "https://docs.google.com/spreadsheets/d/1G-GpXmgoIY0xk4w_ijGyAAWY0lb_kV_9kJY7py1wgzg/edit#gid=0\n",
        "\n",
        "we change the last part after the last slash (/) to export?format=csv:\n",
        "\n",
        "https://docs.google.com/spreadsheets/d/1G-GpXmgoIY0xk4w_ijGyAAWY0lb_kV_9kJY7py1wgzg/export?format=csv\n",
        "\n",
        "We then treat the Google Sheet like a CSV file."
      ],
      "metadata": {
        "id": "p9iO_lyDDMen"
      }
    },
    {
      "cell_type": "code",
      "source": [
        "# Google Sheet URL variable, with modified /export?format=csv ending\n",
        "url = 'https://docs.google.com/spreadsheets/d/1Ix1ZT46jKOTtP21Xjl-9zPPl_FE2lUvdjZfhERtZK0U/export?format=csv'\n",
        "\n",
        "# Read the Google Sheet into a DataFrame named df\n",
        "# Note we are using the url variable\n",
        "df = pd.read_csv(url)\n",
        "\n",
        "display(df)"
      ],
      "metadata": {
        "id": "Vw3bQb31DIcB"
      },
      "execution_count": null,
      "outputs": []
    },
    {
      "cell_type": "markdown",
      "source": [
        "The dataset above displays three columns. The first, time, is not useful to us, but we do need a name for our data visualization, so we'll replace all values with our name. The second represents the distance from which I shot, and the third represents whether I got the shot in (1 for TRUE, 0 for FALSE).\n",
        "\n",
        "\n"
      ],
      "metadata": {
        "id": "MWhKEeq36x9A"
      }
    },
    {
      "cell_type": "markdown",
      "source": [
        "## Cleaning the Data"
      ],
      "metadata": {
        "id": "_u7xvdsKG7pn"
      }
    },
    {
      "cell_type": "markdown",
      "source": [
        "There are few things we should do to make our data a little easier to work with.\n",
        "\n",
        "1) We have a row we don't need at the top (it's exported automatically from makecode). First we'll drop that row.\n",
        "\n",
        "2) We also don't need to know the time, but as we mentioned, we'll replace those values with our name.\n",
        "\n",
        "3) We'll rename our columns so they are easier to work with. Especially the g-force column, which doesn't have a name at all!"
      ],
      "metadata": {
        "id": "z5C9AtzzHJbn"
      }
    },
    {
      "cell_type": "code",
      "source": [
        "# Drop the first row\n",
        "df = df.drop(0)\n",
        "\n",
        "# Rename columns\n",
        "df.columns = ['name','distance', 'make_miss']\n",
        "\n",
        "# Convert values in 'name' to my name (change to yours for your version!)\n",
        "df['name'] = 'Matt_Griffin'\n",
        "\n",
        "# Reset the index\n",
        "df = df.reset_index(drop=True)\n",
        "\n",
        "display(df)"
      ],
      "metadata": {
        "id": "kEVKV0_2Hd8J"
      },
      "execution_count": null,
      "outputs": []
    },
    {
      "cell_type": "markdown",
      "source": [
        "Now we'll graph our data. We'll use a line graph, since our data is a continual flow of one source of information."
      ],
      "metadata": {
        "id": "m0ry_h48N1Gz"
      }
    },
    {
      "cell_type": "code",
      "source": [
        "# Create a pivot table to get the count of made and missed shots for each player and distance\n",
        "pivot_table = df.pivot_table(index=['name', 'distance'], columns='make_miss', aggfunc='size', fill_value=0)\n",
        "\n",
        "# Calculate the percentage of made shots for each player and distance\n",
        "pivot_table['Percentage_True'] = (pivot_table['1'] / (pivot_table['1'] + pivot_table['0'])) * 100\n",
        "\n",
        "# Print the result\n",
        "# print(pivot_table[['Percentage_True']])\n",
        "\n",
        "# Reset the index to make 'name' and 'distance' regular columns\n",
        "pivot_table_reset = pivot_table.reset_index()\n",
        "\n",
        "# Convert 'distance' to numeric before sorting\n",
        "pivot_table_reset['distance'] = pd.to_numeric(pivot_table_reset['distance'])\n",
        "\n",
        "# Plotting the bar graph using Plotly Express\n",
        "fig = px.bar(pivot_table_reset, x='distance', y='Percentage_True', color='name',\n",
        "             labels={'x': 'Distance', 'y': 'Percentage of Shots Made'},\n",
        "             title='Percentage of Shots Made by Distance and Player')\n",
        "\n",
        "fig.show()"
      ],
      "metadata": {
        "id": "Z4iFsalBCXWT"
      },
      "execution_count": null,
      "outputs": []
    }
  ]
}